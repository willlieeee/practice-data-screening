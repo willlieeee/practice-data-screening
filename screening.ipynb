{
 "cells": [
  {
   "cell_type": "code",
   "execution_count": 2,
   "id": "f72d01d8",
   "metadata": {},
   "outputs": [],
   "source": [
    "# Library\n",
    "import pandas as pd\n",
    "import csv"
   ]
  },
  {
   "cell_type": "code",
   "execution_count": 6,
   "id": "d526fb63",
   "metadata": {},
   "outputs": [],
   "source": [
    "data = pd.read_csv('Data_Nasabah.csv')\n"
   ]
  },
  {
   "cell_type": "code",
   "execution_count": 8,
   "id": "32a1f9e7",
   "metadata": {},
   "outputs": [
    {
     "name": "stdout",
     "output_type": "stream",
     "text": [
      "Total data: (100, 1)\n"
     ]
    }
   ],
   "source": [
    "print(\"Total data:\", data.shape)"
   ]
  },
  {
   "cell_type": "code",
   "execution_count": 9,
   "id": "93022474",
   "metadata": {},
   "outputs": [
    {
     "name": "stdout",
     "output_type": "stream",
     "text": [
      "<class 'pandas.core.frame.DataFrame'>\n",
      "RangeIndex: 100 entries, 0 to 99\n",
      "Data columns (total 1 columns):\n",
      " #   Column                                                                                                                                                Non-Null Count  Dtype \n",
      "---  ------                                                                                                                                                --------------  ----- \n",
      " 0   nasabah_id;umur;jenis_kelamin;pendapatan;saldo_rata_rata;jumlah_transaksi;jenis_produk;frekuensi_kunjungi_cabang;pengguna_mobile_banking;skor_kredit  100 non-null    object\n",
      "dtypes: object(1)\n",
      "memory usage: 928.0+ bytes\n",
      "Type data: None\n"
     ]
    }
   ],
   "source": [
    "print(\"Type data:\", data.info())"
   ]
  },
  {
   "cell_type": "code",
   "execution_count": 11,
   "id": "957aac77",
   "metadata": {},
   "outputs": [
    {
     "name": "stdout",
     "output_type": "stream",
     "text": [
      "Statistic:        nasabah_id;umur;jenis_kelamin;pendapatan;saldo_rata_rata;jumlah_transaksi;jenis_produk;frekuensi_kunjungi_cabang;pengguna_mobile_banking;skor_kredit\n",
      "count                                                 100                                                                                                  \n",
      "unique                                                100                                                                                                  \n",
      "top     N001;22;Perempuan;5800000;1508000;19;tabungan;...                                                                                                  \n",
      "freq                                                    1                                                                                                  \n"
     ]
    }
   ],
   "source": [
    "print(\"Statistic:\", data.describe())"
   ]
  },
  {
   "cell_type": "code",
   "execution_count": 12,
   "id": "90278935",
   "metadata": {},
   "outputs": [
    {
     "name": "stdout",
     "output_type": "stream",
     "text": [
      "First column data:   nasabah_id;umur;jenis_kelamin;pendapatan;saldo_rata_rata;jumlah_transaksi;jenis_produk;frekuensi_kunjungi_cabang;pengguna_mobile_banking;skor_kredit\n",
      "0  N001;22;Perempuan;5800000;1508000;19;tabungan;...                                                                                                  \n",
      "1  N002;64;Perempuan;5700000;1254000;9;kartu_kred...                                                                                                  \n",
      "2  N003;27;Perempuan;2950000;590000;12;tabungan;1...                                                                                                  \n",
      "3  N004;34;Perempuan;3100000;186000;16;deposito;5...                                                                                                  \n",
      "4  N005;45;Laki-Laki;6700000;1474000;15;kartu_kre...                                                                                                  \n"
     ]
    }
   ],
   "source": [
    "print(\"First column data:\", data.head())"
   ]
  },
  {
   "cell_type": "code",
   "execution_count": 13,
   "id": "fe953cb7",
   "metadata": {},
   "outputs": [
    {
     "name": "stdout",
     "output_type": "stream",
     "text": [
      "nasabah_id;umur;jenis_kelamin;pendapatan;saldo_rata_rata;jumlah_transaksi;jenis_produk;frekuensi_kunjungi_cabang;pengguna_mobile_banking;skor_kredit: 100\n"
     ]
    }
   ],
   "source": [
    "for column in data.columns:\n",
    "    print(f\"{column}: {data[column].nunique()}\")"
   ]
  },
  {
   "cell_type": "code",
   "execution_count": 14,
   "id": "014ad1ce",
   "metadata": {},
   "outputs": [],
   "source": [
    "# Cleansing data\n",
    "new_data = pd.read_csv(\"Data_Nasabah.csv\", delimiter=';')"
   ]
  },
  {
   "cell_type": "code",
   "execution_count": 21,
   "id": "cf287f22",
   "metadata": {},
   "outputs": [
    {
     "name": "stdout",
     "output_type": "stream",
     "text": [
      "(100, 10)\n",
      "<class 'pandas.core.frame.DataFrame'>\n",
      "RangeIndex: 100 entries, 0 to 99\n",
      "Data columns (total 10 columns):\n",
      " #   Column                     Non-Null Count  Dtype \n",
      "---  ------                     --------------  ----- \n",
      " 0   nasabah_id                 100 non-null    object\n",
      " 1   umur                       100 non-null    int64 \n",
      " 2   jenis_kelamin              100 non-null    object\n",
      " 3   pendapatan                 100 non-null    int64 \n",
      " 4   saldo_rata_rata            100 non-null    int64 \n",
      " 5   jumlah_transaksi           100 non-null    int64 \n",
      " 6   jenis_produk               100 non-null    object\n",
      " 7   frekuensi_kunjungi_cabang  100 non-null    int64 \n",
      " 8   pengguna_mobile_banking    100 non-null    object\n",
      " 9   skor_kredit                100 non-null    int64 \n",
      "dtypes: int64(6), object(4)\n",
      "memory usage: 7.9+ KB\n",
      "None\n"
     ]
    }
   ],
   "source": [
    "print(new_data.shape)\n",
    "print(new_data.info())"
   ]
  },
  {
   "cell_type": "code",
   "execution_count": null,
   "id": "04d704b2",
   "metadata": {},
   "outputs": [],
   "source": []
  }
 ],
 "metadata": {
  "kernelspec": {
   "display_name": "Python 3",
   "language": "python",
   "name": "python3"
  },
  "language_info": {
   "codemirror_mode": {
    "name": "ipython",
    "version": 3
   },
   "file_extension": ".py",
   "mimetype": "text/x-python",
   "name": "python",
   "nbconvert_exporter": "python",
   "pygments_lexer": "ipython3",
   "version": "3.10.11"
  }
 },
 "nbformat": 4,
 "nbformat_minor": 5
}
